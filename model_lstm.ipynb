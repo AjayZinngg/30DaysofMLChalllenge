{
 "cells": [
  {
   "cell_type": "code",
   "execution_count": 41,
   "metadata": {},
   "outputs": [],
   "source": [
    "import pandas as pd\n",
    "import numpy as np\n",
    "from sklearn.preprocessing import LabelEncoder\n",
    "from tensorflow.keras.models import Sequential\n",
    "from tensorflow.keras.layers import LSTM, Dense, Embedding, Dropout, Bidirectional\n",
    "from tensorflow.keras.preprocessing.sequence import pad_sequences\n",
    "from tensorflow.keras.utils import to_categorical\n",
    "from sklearn.model_selection import train_test_split, KFold\n",
    "from tensorflow.keras.callbacks import ModelCheckpoint"
   ]
  },
  {
   "cell_type": "code",
   "execution_count": 42,
   "metadata": {},
   "outputs": [],
   "source": [
    "fraction_of_data_to_use = 1\n",
    "embedding_dim = 50  # Dimensionality of embedding layer\n",
    "lstm_units = 100    # Number of units in LSTM layers\n",
    "dropout_rate = 0.3  # Dropout rate for regularization\n",
    "batch_size = 64\n",
    "epochs = 10\n",
    "n_splits = 5"
   ]
  },
  {
   "cell_type": "code",
   "execution_count": 43,
   "metadata": {},
   "outputs": [],
   "source": [
    "# Load the datasets\n",
    "fraction_of_data_to_use = 0.01\n",
    "train_set = pd.read_csv('train_set.csv')\n",
    "train_set = train_set.sample(frac=fraction_of_data_to_use)\n",
    "test_set = pd.read_csv('test_set.csv')\n",
    "test_set = test_set.sample(frac=fraction_of_data_to_use)"
   ]
  },
  {
   "cell_type": "code",
   "execution_count": 44,
   "metadata": {},
   "outputs": [],
   "source": [
    "# Load the datasets\n",
    "try:\n",
    "    train_set = pd.read_csv('train_set.csv').sample(frac=fraction_of_data_to_use)\n",
    "    test_set = pd.read_csv('test_set.csv').sample(frac=fraction_of_data_to_use)\n",
    "except Exception as e:\n",
    "    print(f\"Failed to load data: {e}\")\n",
    "    exit()"
   ]
  },
  {
   "cell_type": "code",
   "execution_count": 45,
   "metadata": {},
   "outputs": [],
   "source": [
    "# Preprocessing steps\n",
    "train_set['checkin'] = pd.to_datetime(train_set['checkin'])\n",
    "train_set['checkout'] = pd.to_datetime(train_set['checkout'])\n",
    "test_set['checkin'] = pd.to_datetime(test_set['checkin'])\n",
    "test_set['checkout'] = pd.to_datetime(test_set['checkout'])\n",
    "train_set['stay_duration'] = (train_set['checkout'] - train_set['checkin']).dt.days\n",
    "test_set['stay_duration'] = (test_set['checkout'] - test_set['checkin']).dt.days"
   ]
  },
  {
   "cell_type": "code",
   "execution_count": 46,
   "metadata": {},
   "outputs": [],
   "source": [
    "# Fill NaN values with 'Unknown' to avoid errors during encoding\n",
    "train_set.fillna('Unknown', inplace=True)\n",
    "test_set.fillna('Unknown', inplace=True)"
   ]
  },
  {
   "cell_type": "code",
   "execution_count": 47,
   "metadata": {},
   "outputs": [],
   "source": [
    "# Feature Engineering\n",
    "trip_sequences = train_set.groupby('utrip_id').agg(list).reset_index()\n",
    "X = trip_sequences['city_id'].apply(lambda x: x[:-1]).tolist()\n",
    "y = trip_sequences['city_id'].apply(lambda x: x[-1]).tolist()\n",
    "X_padded = pad_sequences(X, padding='post')"
   ]
  },
  {
   "cell_type": "code",
   "execution_count": 48,
   "metadata": {},
   "outputs": [],
   "source": [
    "# Encode target labels to integers\n",
    "city_encoder = LabelEncoder()\n",
    "unique_cities = train_set['city_id'].unique()\n",
    "y_encoded = city_encoder.fit_transform(unique_cities)\n",
    "y_encoded = city_encoder.transform(y)\n",
    "\n",
    "# Pad sequences to have the same length for model input\n",
    "X_padded = pad_sequences(X, padding='post')"
   ]
  },
  {
   "cell_type": "code",
   "execution_count": 49,
   "metadata": {},
   "outputs": [],
   "source": [
    "# Fit the LabelEncoder on all unique city IDs from both training and testing datasets\n",
    "all_cities = np.concatenate([train_set['city_id'].unique(), test_set['city_id'].unique()])\n",
    "all_cities = np.unique(all_cities)  # Ensure unique cities\n",
    "city_encoder = LabelEncoder()\n",
    "city_encoder.fit(all_cities)\n",
    "y_encoded = city_encoder.transform(trip_sequences['city_id'].apply(lambda x: x[-1]))\n",
    "\n",
    "# Check if any encoded label index exceeds the configured input_dim of the embedding layer\n",
    "if np.any(y_encoded >= len(city_encoder.classes_)):\n",
    "    raise ValueError(\"Encoded city index out of bounds of the embedding layer input dimension.\")\n"
   ]
  },
  {
   "cell_type": "code",
   "execution_count": 50,
   "metadata": {},
   "outputs": [
    {
     "name": "stderr",
     "output_type": "stream",
     "text": [
      "/home/ajay/Documents/projects/RecSys-local/.venv/lib/python3.10/site-packages/keras/src/layers/core/embedding.py:90: UserWarning: Argument `input_length` is deprecated. Just remove it.\n",
      "  warnings.warn(\n"
     ]
    }
   ],
   "source": [
    "# Model Configuration\n",
    "model = Sequential([\n",
    "    Embedding(input_dim=len(city_encoder.classes_), output_dim=embedding_dim, input_length=X_padded.shape[1]),\n",
    "    Bidirectional(LSTM(lstm_units, return_sequences=True, dropout=dropout_rate, recurrent_dropout=dropout_rate)),\n",
    "    LSTM(lstm_units, dropout=dropout_rate, recurrent_dropout=dropout_rate),\n",
    "    Dense(128, activation='relu'),\n",
    "    Dropout(dropout_rate),\n",
    "    Dense(len(city_encoder.classes_), activation='softmax')])"
   ]
  },
  {
   "cell_type": "code",
   "execution_count": 51,
   "metadata": {},
   "outputs": [],
   "source": [
    "# Compile the model with optimizer, loss function, and metrics\n",
    "model.compile(optimizer='adam', loss='sparse_categorical_crossentropy', metrics=['accuracy'])"
   ]
  },
  {
   "cell_type": "code",
   "execution_count": 52,
   "metadata": {},
   "outputs": [
    {
     "name": "stdout",
     "output_type": "stream",
     "text": [
      "Training fold 1...\n",
      "Epoch 1/10\n",
      "\u001b[1m  1/143\u001b[0m \u001b[37m━━━━━━━━━━━━━━━━━━━━\u001b[0m \u001b[1m20:53\u001b[0m 9s/step - accuracy: 0.0000e+00 - loss: 8.4526"
     ]
    },
    {
     "name": "stderr",
     "output_type": "stream",
     "text": [
      "2024-06-01 09:30:41.392370: W tensorflow/core/framework/local_rendezvous.cc:404] Local rendezvous is aborting with status: INVALID_ARGUMENT: indices[17,0] = 11757 is not in [0, 4687)\n",
      "\t [[{{function_node __inference_one_step_on_data_42886}}{{node sequential_6_1/embedding_6_1/GatherV2}}]]\n"
     ]
    },
    {
     "ename": "InvalidArgumentError",
     "evalue": "Graph execution error:\n\nDetected at node sequential_6_1/embedding_6_1/GatherV2 defined at (most recent call last):\n  File \"/usr/lib/python3.10/runpy.py\", line 196, in _run_module_as_main\n\n  File \"/usr/lib/python3.10/runpy.py\", line 86, in _run_code\n\n  File \"/home/ajay/Documents/projects/RecSys-local/.venv/lib/python3.10/site-packages/ipykernel_launcher.py\", line 18, in <module>\n\n  File \"/home/ajay/Documents/projects/RecSys-local/.venv/lib/python3.10/site-packages/traitlets/config/application.py\", line 1075, in launch_instance\n\n  File \"/home/ajay/Documents/projects/RecSys-local/.venv/lib/python3.10/site-packages/ipykernel/kernelapp.py\", line 739, in start\n\n  File \"/home/ajay/Documents/projects/RecSys-local/.venv/lib/python3.10/site-packages/tornado/platform/asyncio.py\", line 205, in start\n\n  File \"/usr/lib/python3.10/asyncio/base_events.py\", line 603, in run_forever\n\n  File \"/usr/lib/python3.10/asyncio/base_events.py\", line 1909, in _run_once\n\n  File \"/usr/lib/python3.10/asyncio/events.py\", line 80, in _run\n\n  File \"/home/ajay/Documents/projects/RecSys-local/.venv/lib/python3.10/site-packages/ipykernel/kernelbase.py\", line 545, in dispatch_queue\n\n  File \"/home/ajay/Documents/projects/RecSys-local/.venv/lib/python3.10/site-packages/ipykernel/kernelbase.py\", line 534, in process_one\n\n  File \"/home/ajay/Documents/projects/RecSys-local/.venv/lib/python3.10/site-packages/ipykernel/kernelbase.py\", line 437, in dispatch_shell\n\n  File \"/home/ajay/Documents/projects/RecSys-local/.venv/lib/python3.10/site-packages/ipykernel/ipkernel.py\", line 362, in execute_request\n\n  File \"/home/ajay/Documents/projects/RecSys-local/.venv/lib/python3.10/site-packages/ipykernel/kernelbase.py\", line 778, in execute_request\n\n  File \"/home/ajay/Documents/projects/RecSys-local/.venv/lib/python3.10/site-packages/ipykernel/ipkernel.py\", line 449, in do_execute\n\n  File \"/home/ajay/Documents/projects/RecSys-local/.venv/lib/python3.10/site-packages/ipykernel/zmqshell.py\", line 549, in run_cell\n\n  File \"/home/ajay/Documents/projects/RecSys-local/.venv/lib/python3.10/site-packages/IPython/core/interactiveshell.py\", line 3075, in run_cell\n\n  File \"/home/ajay/Documents/projects/RecSys-local/.venv/lib/python3.10/site-packages/IPython/core/interactiveshell.py\", line 3130, in _run_cell\n\n  File \"/home/ajay/Documents/projects/RecSys-local/.venv/lib/python3.10/site-packages/IPython/core/async_helpers.py\", line 129, in _pseudo_sync_runner\n\n  File \"/home/ajay/Documents/projects/RecSys-local/.venv/lib/python3.10/site-packages/IPython/core/interactiveshell.py\", line 3334, in run_cell_async\n\n  File \"/home/ajay/Documents/projects/RecSys-local/.venv/lib/python3.10/site-packages/IPython/core/interactiveshell.py\", line 3517, in run_ast_nodes\n\n  File \"/home/ajay/Documents/projects/RecSys-local/.venv/lib/python3.10/site-packages/IPython/core/interactiveshell.py\", line 3577, in run_code\n\n  File \"/tmp/ipykernel_6585/1535412224.py\", line 16, in <module>\n\n  File \"/home/ajay/Documents/projects/RecSys-local/.venv/lib/python3.10/site-packages/keras/src/utils/traceback_utils.py\", line 117, in error_handler\n\n  File \"/home/ajay/Documents/projects/RecSys-local/.venv/lib/python3.10/site-packages/keras/src/backend/tensorflow/trainer.py\", line 314, in fit\n\n  File \"/home/ajay/Documents/projects/RecSys-local/.venv/lib/python3.10/site-packages/keras/src/backend/tensorflow/trainer.py\", line 117, in one_step_on_iterator\n\n  File \"/home/ajay/Documents/projects/RecSys-local/.venv/lib/python3.10/site-packages/keras/src/backend/tensorflow/trainer.py\", line 104, in one_step_on_data\n\n  File \"/home/ajay/Documents/projects/RecSys-local/.venv/lib/python3.10/site-packages/keras/src/backend/tensorflow/trainer.py\", line 51, in train_step\n\n  File \"/home/ajay/Documents/projects/RecSys-local/.venv/lib/python3.10/site-packages/keras/src/utils/traceback_utils.py\", line 117, in error_handler\n\n  File \"/home/ajay/Documents/projects/RecSys-local/.venv/lib/python3.10/site-packages/keras/src/layers/layer.py\", line 846, in __call__\n\n  File \"/home/ajay/Documents/projects/RecSys-local/.venv/lib/python3.10/site-packages/keras/src/utils/traceback_utils.py\", line 117, in error_handler\n\n  File \"/home/ajay/Documents/projects/RecSys-local/.venv/lib/python3.10/site-packages/keras/src/ops/operation.py\", line 48, in __call__\n\n  File \"/home/ajay/Documents/projects/RecSys-local/.venv/lib/python3.10/site-packages/keras/src/utils/traceback_utils.py\", line 156, in error_handler\n\n  File \"/home/ajay/Documents/projects/RecSys-local/.venv/lib/python3.10/site-packages/keras/src/models/sequential.py\", line 209, in call\n\n  File \"/home/ajay/Documents/projects/RecSys-local/.venv/lib/python3.10/site-packages/keras/src/models/functional.py\", line 202, in call\n\n  File \"/home/ajay/Documents/projects/RecSys-local/.venv/lib/python3.10/site-packages/keras/src/ops/function.py\", line 155, in _run_through_graph\n\n  File \"/home/ajay/Documents/projects/RecSys-local/.venv/lib/python3.10/site-packages/keras/src/models/functional.py\", line 592, in call\n\n  File \"/home/ajay/Documents/projects/RecSys-local/.venv/lib/python3.10/site-packages/keras/src/utils/traceback_utils.py\", line 117, in error_handler\n\n  File \"/home/ajay/Documents/projects/RecSys-local/.venv/lib/python3.10/site-packages/keras/src/layers/layer.py\", line 846, in __call__\n\n  File \"/home/ajay/Documents/projects/RecSys-local/.venv/lib/python3.10/site-packages/keras/src/utils/traceback_utils.py\", line 117, in error_handler\n\n  File \"/home/ajay/Documents/projects/RecSys-local/.venv/lib/python3.10/site-packages/keras/src/ops/operation.py\", line 48, in __call__\n\n  File \"/home/ajay/Documents/projects/RecSys-local/.venv/lib/python3.10/site-packages/keras/src/utils/traceback_utils.py\", line 156, in error_handler\n\n  File \"/home/ajay/Documents/projects/RecSys-local/.venv/lib/python3.10/site-packages/keras/src/layers/core/embedding.py\", line 146, in call\n\n  File \"/home/ajay/Documents/projects/RecSys-local/.venv/lib/python3.10/site-packages/keras/src/ops/numpy.py\", line 4850, in take\n\n  File \"/home/ajay/Documents/projects/RecSys-local/.venv/lib/python3.10/site-packages/keras/src/backend/tensorflow/numpy.py\", line 1940, in take\n\nindices[17,0] = 11757 is not in [0, 4687)\n\t [[{{node sequential_6_1/embedding_6_1/GatherV2}}]] [Op:__inference_one_step_on_iterator_42995]",
     "output_type": "error",
     "traceback": [
      "\u001b[0;31m---------------------------------------------------------------------------\u001b[0m",
      "\u001b[0;31mInvalidArgumentError\u001b[0m                      Traceback (most recent call last)",
      "Cell \u001b[0;32mIn[52], line 16\u001b[0m\n\u001b[1;32m      8\u001b[0m \u001b[38;5;28mprint\u001b[39m(\u001b[38;5;124mf\u001b[39m\u001b[38;5;124m'\u001b[39m\u001b[38;5;124mTraining fold \u001b[39m\u001b[38;5;132;01m{\u001b[39;00mfold_no\u001b[38;5;132;01m}\u001b[39;00m\u001b[38;5;124m...\u001b[39m\u001b[38;5;124m'\u001b[39m)\n\u001b[1;32m      9\u001b[0m model_checkpoint_callback \u001b[38;5;241m=\u001b[39m ModelCheckpoint(\n\u001b[1;32m     10\u001b[0m     filepath\u001b[38;5;241m=\u001b[39m\u001b[38;5;124mf\u001b[39m\u001b[38;5;124m'\u001b[39m\u001b[38;5;124mmodel_fold_\u001b[39m\u001b[38;5;132;01m{\u001b[39;00mfold_no\u001b[38;5;132;01m}\u001b[39;00m\u001b[38;5;124m.weights.h5\u001b[39m\u001b[38;5;124m'\u001b[39m,\n\u001b[1;32m     11\u001b[0m     save_weights_only\u001b[38;5;241m=\u001b[39m\u001b[38;5;28;01mTrue\u001b[39;00m,\n\u001b[1;32m     12\u001b[0m     monitor\u001b[38;5;241m=\u001b[39m\u001b[38;5;124m'\u001b[39m\u001b[38;5;124mval_accuracy\u001b[39m\u001b[38;5;124m'\u001b[39m,\n\u001b[1;32m     13\u001b[0m     mode\u001b[38;5;241m=\u001b[39m\u001b[38;5;124m'\u001b[39m\u001b[38;5;124mmax\u001b[39m\u001b[38;5;124m'\u001b[39m,\n\u001b[1;32m     14\u001b[0m     save_best_only\u001b[38;5;241m=\u001b[39m\u001b[38;5;28;01mTrue\u001b[39;00m)\n\u001b[0;32m---> 16\u001b[0m \u001b[43mmodel\u001b[49m\u001b[38;5;241;43m.\u001b[39;49m\u001b[43mfit\u001b[49m\u001b[43m(\u001b[49m\u001b[43mX_train\u001b[49m\u001b[43m,\u001b[49m\u001b[43m \u001b[49m\u001b[43my_train\u001b[49m\u001b[43m,\u001b[49m\u001b[43m \u001b[49m\u001b[43mepochs\u001b[49m\u001b[38;5;241;43m=\u001b[39;49m\u001b[43mepochs\u001b[49m\u001b[43m,\u001b[49m\u001b[43m \u001b[49m\u001b[43mbatch_size\u001b[49m\u001b[38;5;241;43m=\u001b[39;49m\u001b[43mbatch_size\u001b[49m\u001b[43m,\u001b[49m\u001b[43m \u001b[49m\u001b[43mvalidation_data\u001b[49m\u001b[38;5;241;43m=\u001b[39;49m\u001b[43m(\u001b[49m\u001b[43mX_val\u001b[49m\u001b[43m,\u001b[49m\u001b[43m \u001b[49m\u001b[43my_val\u001b[49m\u001b[43m)\u001b[49m\u001b[43m,\u001b[49m\u001b[43m \u001b[49m\u001b[43mcallbacks\u001b[49m\u001b[38;5;241;43m=\u001b[39;49m\u001b[43m[\u001b[49m\u001b[43mmodel_checkpoint_callback\u001b[49m\u001b[43m]\u001b[49m\u001b[43m)\u001b[49m\n\u001b[1;32m     17\u001b[0m fold_no \u001b[38;5;241m+\u001b[39m\u001b[38;5;241m=\u001b[39m \u001b[38;5;241m1\u001b[39m\n",
      "File \u001b[0;32m~/Documents/projects/RecSys-local/.venv/lib/python3.10/site-packages/keras/src/utils/traceback_utils.py:122\u001b[0m, in \u001b[0;36mfilter_traceback.<locals>.error_handler\u001b[0;34m(*args, **kwargs)\u001b[0m\n\u001b[1;32m    119\u001b[0m     filtered_tb \u001b[38;5;241m=\u001b[39m _process_traceback_frames(e\u001b[38;5;241m.\u001b[39m__traceback__)\n\u001b[1;32m    120\u001b[0m     \u001b[38;5;66;03m# To get the full stack trace, call:\u001b[39;00m\n\u001b[1;32m    121\u001b[0m     \u001b[38;5;66;03m# `keras.config.disable_traceback_filtering()`\u001b[39;00m\n\u001b[0;32m--> 122\u001b[0m     \u001b[38;5;28;01mraise\u001b[39;00m e\u001b[38;5;241m.\u001b[39mwith_traceback(filtered_tb) \u001b[38;5;28;01mfrom\u001b[39;00m \u001b[38;5;28;01mNone\u001b[39;00m\n\u001b[1;32m    123\u001b[0m \u001b[38;5;28;01mfinally\u001b[39;00m:\n\u001b[1;32m    124\u001b[0m     \u001b[38;5;28;01mdel\u001b[39;00m filtered_tb\n",
      "File \u001b[0;32m~/Documents/projects/RecSys-local/.venv/lib/python3.10/site-packages/tensorflow/python/eager/execute.py:53\u001b[0m, in \u001b[0;36mquick_execute\u001b[0;34m(op_name, num_outputs, inputs, attrs, ctx, name)\u001b[0m\n\u001b[1;32m     51\u001b[0m \u001b[38;5;28;01mtry\u001b[39;00m:\n\u001b[1;32m     52\u001b[0m   ctx\u001b[38;5;241m.\u001b[39mensure_initialized()\n\u001b[0;32m---> 53\u001b[0m   tensors \u001b[38;5;241m=\u001b[39m pywrap_tfe\u001b[38;5;241m.\u001b[39mTFE_Py_Execute(ctx\u001b[38;5;241m.\u001b[39m_handle, device_name, op_name,\n\u001b[1;32m     54\u001b[0m                                       inputs, attrs, num_outputs)\n\u001b[1;32m     55\u001b[0m \u001b[38;5;28;01mexcept\u001b[39;00m core\u001b[38;5;241m.\u001b[39m_NotOkStatusException \u001b[38;5;28;01mas\u001b[39;00m e:\n\u001b[1;32m     56\u001b[0m   \u001b[38;5;28;01mif\u001b[39;00m name \u001b[38;5;129;01mis\u001b[39;00m \u001b[38;5;129;01mnot\u001b[39;00m \u001b[38;5;28;01mNone\u001b[39;00m:\n",
      "\u001b[0;31mInvalidArgumentError\u001b[0m: Graph execution error:\n\nDetected at node sequential_6_1/embedding_6_1/GatherV2 defined at (most recent call last):\n  File \"/usr/lib/python3.10/runpy.py\", line 196, in _run_module_as_main\n\n  File \"/usr/lib/python3.10/runpy.py\", line 86, in _run_code\n\n  File \"/home/ajay/Documents/projects/RecSys-local/.venv/lib/python3.10/site-packages/ipykernel_launcher.py\", line 18, in <module>\n\n  File \"/home/ajay/Documents/projects/RecSys-local/.venv/lib/python3.10/site-packages/traitlets/config/application.py\", line 1075, in launch_instance\n\n  File \"/home/ajay/Documents/projects/RecSys-local/.venv/lib/python3.10/site-packages/ipykernel/kernelapp.py\", line 739, in start\n\n  File \"/home/ajay/Documents/projects/RecSys-local/.venv/lib/python3.10/site-packages/tornado/platform/asyncio.py\", line 205, in start\n\n  File \"/usr/lib/python3.10/asyncio/base_events.py\", line 603, in run_forever\n\n  File \"/usr/lib/python3.10/asyncio/base_events.py\", line 1909, in _run_once\n\n  File \"/usr/lib/python3.10/asyncio/events.py\", line 80, in _run\n\n  File \"/home/ajay/Documents/projects/RecSys-local/.venv/lib/python3.10/site-packages/ipykernel/kernelbase.py\", line 545, in dispatch_queue\n\n  File \"/home/ajay/Documents/projects/RecSys-local/.venv/lib/python3.10/site-packages/ipykernel/kernelbase.py\", line 534, in process_one\n\n  File \"/home/ajay/Documents/projects/RecSys-local/.venv/lib/python3.10/site-packages/ipykernel/kernelbase.py\", line 437, in dispatch_shell\n\n  File \"/home/ajay/Documents/projects/RecSys-local/.venv/lib/python3.10/site-packages/ipykernel/ipkernel.py\", line 362, in execute_request\n\n  File \"/home/ajay/Documents/projects/RecSys-local/.venv/lib/python3.10/site-packages/ipykernel/kernelbase.py\", line 778, in execute_request\n\n  File \"/home/ajay/Documents/projects/RecSys-local/.venv/lib/python3.10/site-packages/ipykernel/ipkernel.py\", line 449, in do_execute\n\n  File \"/home/ajay/Documents/projects/RecSys-local/.venv/lib/python3.10/site-packages/ipykernel/zmqshell.py\", line 549, in run_cell\n\n  File \"/home/ajay/Documents/projects/RecSys-local/.venv/lib/python3.10/site-packages/IPython/core/interactiveshell.py\", line 3075, in run_cell\n\n  File \"/home/ajay/Documents/projects/RecSys-local/.venv/lib/python3.10/site-packages/IPython/core/interactiveshell.py\", line 3130, in _run_cell\n\n  File \"/home/ajay/Documents/projects/RecSys-local/.venv/lib/python3.10/site-packages/IPython/core/async_helpers.py\", line 129, in _pseudo_sync_runner\n\n  File \"/home/ajay/Documents/projects/RecSys-local/.venv/lib/python3.10/site-packages/IPython/core/interactiveshell.py\", line 3334, in run_cell_async\n\n  File \"/home/ajay/Documents/projects/RecSys-local/.venv/lib/python3.10/site-packages/IPython/core/interactiveshell.py\", line 3517, in run_ast_nodes\n\n  File \"/home/ajay/Documents/projects/RecSys-local/.venv/lib/python3.10/site-packages/IPython/core/interactiveshell.py\", line 3577, in run_code\n\n  File \"/tmp/ipykernel_6585/1535412224.py\", line 16, in <module>\n\n  File \"/home/ajay/Documents/projects/RecSys-local/.venv/lib/python3.10/site-packages/keras/src/utils/traceback_utils.py\", line 117, in error_handler\n\n  File \"/home/ajay/Documents/projects/RecSys-local/.venv/lib/python3.10/site-packages/keras/src/backend/tensorflow/trainer.py\", line 314, in fit\n\n  File \"/home/ajay/Documents/projects/RecSys-local/.venv/lib/python3.10/site-packages/keras/src/backend/tensorflow/trainer.py\", line 117, in one_step_on_iterator\n\n  File \"/home/ajay/Documents/projects/RecSys-local/.venv/lib/python3.10/site-packages/keras/src/backend/tensorflow/trainer.py\", line 104, in one_step_on_data\n\n  File \"/home/ajay/Documents/projects/RecSys-local/.venv/lib/python3.10/site-packages/keras/src/backend/tensorflow/trainer.py\", line 51, in train_step\n\n  File \"/home/ajay/Documents/projects/RecSys-local/.venv/lib/python3.10/site-packages/keras/src/utils/traceback_utils.py\", line 117, in error_handler\n\n  File \"/home/ajay/Documents/projects/RecSys-local/.venv/lib/python3.10/site-packages/keras/src/layers/layer.py\", line 846, in __call__\n\n  File \"/home/ajay/Documents/projects/RecSys-local/.venv/lib/python3.10/site-packages/keras/src/utils/traceback_utils.py\", line 117, in error_handler\n\n  File \"/home/ajay/Documents/projects/RecSys-local/.venv/lib/python3.10/site-packages/keras/src/ops/operation.py\", line 48, in __call__\n\n  File \"/home/ajay/Documents/projects/RecSys-local/.venv/lib/python3.10/site-packages/keras/src/utils/traceback_utils.py\", line 156, in error_handler\n\n  File \"/home/ajay/Documents/projects/RecSys-local/.venv/lib/python3.10/site-packages/keras/src/models/sequential.py\", line 209, in call\n\n  File \"/home/ajay/Documents/projects/RecSys-local/.venv/lib/python3.10/site-packages/keras/src/models/functional.py\", line 202, in call\n\n  File \"/home/ajay/Documents/projects/RecSys-local/.venv/lib/python3.10/site-packages/keras/src/ops/function.py\", line 155, in _run_through_graph\n\n  File \"/home/ajay/Documents/projects/RecSys-local/.venv/lib/python3.10/site-packages/keras/src/models/functional.py\", line 592, in call\n\n  File \"/home/ajay/Documents/projects/RecSys-local/.venv/lib/python3.10/site-packages/keras/src/utils/traceback_utils.py\", line 117, in error_handler\n\n  File \"/home/ajay/Documents/projects/RecSys-local/.venv/lib/python3.10/site-packages/keras/src/layers/layer.py\", line 846, in __call__\n\n  File \"/home/ajay/Documents/projects/RecSys-local/.venv/lib/python3.10/site-packages/keras/src/utils/traceback_utils.py\", line 117, in error_handler\n\n  File \"/home/ajay/Documents/projects/RecSys-local/.venv/lib/python3.10/site-packages/keras/src/ops/operation.py\", line 48, in __call__\n\n  File \"/home/ajay/Documents/projects/RecSys-local/.venv/lib/python3.10/site-packages/keras/src/utils/traceback_utils.py\", line 156, in error_handler\n\n  File \"/home/ajay/Documents/projects/RecSys-local/.venv/lib/python3.10/site-packages/keras/src/layers/core/embedding.py\", line 146, in call\n\n  File \"/home/ajay/Documents/projects/RecSys-local/.venv/lib/python3.10/site-packages/keras/src/ops/numpy.py\", line 4850, in take\n\n  File \"/home/ajay/Documents/projects/RecSys-local/.venv/lib/python3.10/site-packages/keras/src/backend/tensorflow/numpy.py\", line 1940, in take\n\nindices[17,0] = 11757 is not in [0, 4687)\n\t [[{{node sequential_6_1/embedding_6_1/GatherV2}}]] [Op:__inference_one_step_on_iterator_42995]"
     ]
    }
   ],
   "source": [
    "# Cross-Validation\n",
    "kf = KFold(n_splits=n_splits, shuffle=True, random_state=42)\n",
    "fold_no = 1\n",
    "for train_index, val_index in kf.split(X_padded):\n",
    "    X_train, X_val = X_padded[train_index], X_padded[val_index]\n",
    "    y_train, y_val = y_encoded[train_index], y_encoded[val_index]\n",
    "\n",
    "    print(f'Training fold {fold_no}...')\n",
    "    model_checkpoint_callback = ModelCheckpoint(\n",
    "        filepath=f'model_fold_{fold_no}.weights.h5',\n",
    "        save_weights_only=True,\n",
    "        monitor='val_accuracy',\n",
    "        mode='max',\n",
    "        save_best_only=True)\n",
    "\n",
    "    model.fit(X_train, y_train, epochs=epochs, batch_size=batch_size, validation_data=(X_val, y_val), callbacks=[model_checkpoint_callback])\n",
    "    fold_no += 1"
   ]
  },
  {
   "cell_type": "markdown",
   "metadata": {},
   "source": []
  },
  {
   "cell_type": "code",
   "execution_count": null,
   "metadata": {},
   "outputs": [],
   "source": []
  },
  {
   "cell_type": "code",
   "execution_count": null,
   "metadata": {},
   "outputs": [],
   "source": []
  }
 ],
 "metadata": {
  "kernelspec": {
   "display_name": "venv",
   "language": "python",
   "name": "python3"
  },
  "language_info": {
   "codemirror_mode": {
    "name": "ipython",
    "version": 3
   },
   "file_extension": ".py",
   "mimetype": "text/x-python",
   "name": "python",
   "nbconvert_exporter": "python",
   "pygments_lexer": "ipython3",
   "version": "3.10.12"
  }
 },
 "nbformat": 4,
 "nbformat_minor": 2
}
